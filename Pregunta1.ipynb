{
 "cells": [
  {
   "cell_type": "markdown",
   "metadata": {},
   "source": [
    "### Pregunta 1\n",
    "Caso: Ponle un límite a las Fiestas"
   ]
  },
  {
   "cell_type": "markdown",
   "metadata": {},
   "source": [
    " <strong><p>A. </strong> Algoritmo en Python: </p>"
   ]
  },
  {
   "cell_type": "code",
   "execution_count": 19,
   "metadata": {},
   "outputs": [
    {
     "name": "stdout",
     "output_type": "stream",
     "text": [
      "49 26\n",
      "48 32\n"
     ]
    }
   ],
   "source": [
    "# Creamos la funcion max_fun que recibe el presupuesto, los precios y la diversion de cada fiesta\n",
    "def max_fun(budget, prices, fun):\n",
    "    n = len(prices)\n",
    "\n",
    "    # Creamos la matriz de programacion dinamica (dp)\n",
    "    dp = [[0] * (budget + 1) for _ in range(n + 1)]\n",
    "\n",
    "    # Llenamos la matriz\n",
    "    for i in range(1, n + 1):\n",
    "        for j in range(1, budget + 1):\n",
    "            if prices[i - 1] > j:\n",
    "                dp[i][j] = dp[i - 1][j]\n",
    "            else:\n",
    "                dp[i][j] = max(dp[i - 1][j], fun[i - 1] + dp[i - 1][j - prices[i - 1]])\n",
    "\n",
    "    # Obtenemos el valor maximo de diversion (total_fun)\n",
    "    total_fun = dp[n][budget]\n",
    "    total_price = 0\n",
    "\n",
    "    # Backtrack para encontrar las fiestas seleccionadas\n",
    "    parties = []\n",
    "    i = n\n",
    "    j = budget\n",
    "    while i > 0 and j > 0:\n",
    "        if dp[i][j] != dp[i - 1][j]:\n",
    "            parties.append(i - 1)\n",
    "            total_price += prices[i - 1]\n",
    "            j -= prices[i - 1]\n",
    "        i -= 1\n",
    "\n",
    "    parties.reverse()\n",
    "    return total_price, total_fun\n",
    "\n",
    "\n",
    "def main():\n",
    "    with open('input.txt', 'r') as file:\n",
    "        while True:\n",
    "            budget, num_parties = map(int, file.readline().split())\n",
    "            if budget == 0 and num_parties == 0:\n",
    "                break\n",
    "\n",
    "            prices = []\n",
    "            fun = []\n",
    "            for _ in range(num_parties):\n",
    "                price, fun_level = map(int, file.readline().split())\n",
    "                prices.append(price)\n",
    "                fun.append(fun_level)\n",
    "\n",
    "            total_price, total_fun = max_fun(budget, prices, fun)\n",
    "            print(total_price, total_fun)\n",
    "\n",
    "\n",
    "if __name__ == '__main__':\n",
    "    main()\n"
   ]
  },
  {
   "cell_type": "markdown",
   "metadata": {},
   "source": [
    "<strong><p>B. </strong> Sustento: </p>\n",
    "<p> En la solución del problema utilicé la técnica de programación dinámica, de una manera similar a la solución del \"Problema de la mochila\". En este caso, el algoritmo usa una matriz de programación dinámica llamada dp, donde se almacena la máxima cantidad de diversión que se puede obtener teniendo en cuenta las fiestas anteriores y el presupuesto determinado. Luego, se recorren las fiestas y el presupuesto, actualizando los valores de la matriz en función de la mejor elección en cada caso.\n",
    "\n",
    "El algoritmo utiliza la estrategia iterativa, porque se construye la solución de manera progresiva, calculando y almacenando los resultados de subproblemas más pequeños para llegar al resultado final. </p>\n"
   ]
  }
 ],
 "metadata": {
  "kernelspec": {
   "display_name": "Python 3",
   "language": "python",
   "name": "python3"
  },
  "language_info": {
   "codemirror_mode": {
    "name": "ipython",
    "version": 3
   },
   "file_extension": ".py",
   "mimetype": "text/x-python",
   "name": "python",
   "nbconvert_exporter": "python",
   "pygments_lexer": "ipython3",
   "version": "3.11.2"
  },
  "orig_nbformat": 4
 },
 "nbformat": 4,
 "nbformat_minor": 2
}
